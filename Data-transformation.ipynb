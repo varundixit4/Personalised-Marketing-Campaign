{
 "cells": [
  {
   "cell_type": "markdown",
   "metadata": {},
   "source": [
    "# Pipelines"
   ]
  },
  {
   "cell_type": "code",
   "execution_count": 1,
   "metadata": {},
   "outputs": [],
   "source": [
    "import pandas as pd\n",
    "pd.set_option('future.no_silent_downcasting', True)"
   ]
  },
  {
   "cell_type": "code",
   "execution_count": 2,
   "metadata": {},
   "outputs": [],
   "source": [
    "df = pd.read_csv('new_features_data.csv')"
   ]
  },
  {
   "cell_type": "code",
   "execution_count": 3,
   "metadata": {},
   "outputs": [
    {
     "data": {
      "text/html": [
       "<div>\n",
       "<style scoped>\n",
       "    .dataframe tbody tr th:only-of-type {\n",
       "        vertical-align: middle;\n",
       "    }\n",
       "\n",
       "    .dataframe tbody tr th {\n",
       "        vertical-align: top;\n",
       "    }\n",
       "\n",
       "    .dataframe thead th {\n",
       "        text-align: right;\n",
       "    }\n",
       "</style>\n",
       "<table border=\"1\" class=\"dataframe\">\n",
       "  <thead>\n",
       "    <tr style=\"text-align: right;\">\n",
       "      <th></th>\n",
       "      <th>Customer ID</th>\n",
       "      <th>Age</th>\n",
       "      <th>Gender</th>\n",
       "      <th>Loyalty Member</th>\n",
       "      <th>Recency</th>\n",
       "      <th>Frequency</th>\n",
       "      <th>Monetary</th>\n",
       "      <th>Churn</th>\n",
       "      <th>Favorite Product Type</th>\n",
       "      <th>Product Diversity</th>\n",
       "      <th>Total Orders</th>\n",
       "      <th>Cancellation Rate</th>\n",
       "      <th>Average Rating</th>\n",
       "      <th>Add-on Frequency</th>\n",
       "      <th>Preferred Payment Method</th>\n",
       "      <th>Preferred Shipping Type</th>\n",
       "    </tr>\n",
       "  </thead>\n",
       "  <tbody>\n",
       "    <tr>\n",
       "      <th>0</th>\n",
       "      <td>1000</td>\n",
       "      <td>53</td>\n",
       "      <td>Male</td>\n",
       "      <td>No</td>\n",
       "      <td>229</td>\n",
       "      <td>2</td>\n",
       "      <td>6279.42</td>\n",
       "      <td>1</td>\n",
       "      <td>Smartphone</td>\n",
       "      <td>2</td>\n",
       "      <td>2</td>\n",
       "      <td>50.0</td>\n",
       "      <td>2.5</td>\n",
       "      <td>1.0</td>\n",
       "      <td>Credit Card</td>\n",
       "      <td>Overnight</td>\n",
       "    </tr>\n",
       "    <tr>\n",
       "      <th>1</th>\n",
       "      <td>1002</td>\n",
       "      <td>41</td>\n",
       "      <td>Male</td>\n",
       "      <td>Yes</td>\n",
       "      <td>118</td>\n",
       "      <td>2</td>\n",
       "      <td>5020.60</td>\n",
       "      <td>0</td>\n",
       "      <td>Laptop</td>\n",
       "      <td>2</td>\n",
       "      <td>2</td>\n",
       "      <td>0.0</td>\n",
       "      <td>2.5</td>\n",
       "      <td>0.5</td>\n",
       "      <td>Cash</td>\n",
       "      <td>Express</td>\n",
       "    </tr>\n",
       "    <tr>\n",
       "      <th>2</th>\n",
       "      <td>1003</td>\n",
       "      <td>75</td>\n",
       "      <td>Male</td>\n",
       "      <td>Yes</td>\n",
       "      <td>198</td>\n",
       "      <td>1</td>\n",
       "      <td>41.50</td>\n",
       "      <td>1</td>\n",
       "      <td>Smartphone</td>\n",
       "      <td>1</td>\n",
       "      <td>1</td>\n",
       "      <td>0.0</td>\n",
       "      <td>5.0</td>\n",
       "      <td>1.0</td>\n",
       "      <td>Cash</td>\n",
       "      <td>Express</td>\n",
       "    </tr>\n",
       "    <tr>\n",
       "      <th>3</th>\n",
       "      <td>1004</td>\n",
       "      <td>41</td>\n",
       "      <td>Female</td>\n",
       "      <td>No</td>\n",
       "      <td>193</td>\n",
       "      <td>1</td>\n",
       "      <td>83.00</td>\n",
       "      <td>1</td>\n",
       "      <td>Smartphone</td>\n",
       "      <td>1</td>\n",
       "      <td>1</td>\n",
       "      <td>0.0</td>\n",
       "      <td>5.0</td>\n",
       "      <td>1.0</td>\n",
       "      <td>Credit Card</td>\n",
       "      <td>Standard</td>\n",
       "    </tr>\n",
       "    <tr>\n",
       "      <th>4</th>\n",
       "      <td>1005</td>\n",
       "      <td>25</td>\n",
       "      <td>Female</td>\n",
       "      <td>No</td>\n",
       "      <td>164</td>\n",
       "      <td>2</td>\n",
       "      <td>11779.11</td>\n",
       "      <td>0</td>\n",
       "      <td>Laptop</td>\n",
       "      <td>2</td>\n",
       "      <td>2</td>\n",
       "      <td>0.0</td>\n",
       "      <td>3.0</td>\n",
       "      <td>0.5</td>\n",
       "      <td>Debit Card</td>\n",
       "      <td>Overnight</td>\n",
       "    </tr>\n",
       "  </tbody>\n",
       "</table>\n",
       "</div>"
      ],
      "text/plain": [
       "   Customer ID  Age  Gender Loyalty Member  Recency  Frequency  Monetary  \\\n",
       "0         1000   53    Male             No      229          2   6279.42   \n",
       "1         1002   41    Male            Yes      118          2   5020.60   \n",
       "2         1003   75    Male            Yes      198          1     41.50   \n",
       "3         1004   41  Female             No      193          1     83.00   \n",
       "4         1005   25  Female             No      164          2  11779.11   \n",
       "\n",
       "   Churn Favorite Product Type  Product Diversity  Total Orders  \\\n",
       "0      1            Smartphone                  2             2   \n",
       "1      0                Laptop                  2             2   \n",
       "2      1            Smartphone                  1             1   \n",
       "3      1            Smartphone                  1             1   \n",
       "4      0                Laptop                  2             2   \n",
       "\n",
       "   Cancellation Rate  Average Rating  Add-on Frequency  \\\n",
       "0               50.0             2.5               1.0   \n",
       "1                0.0             2.5               0.5   \n",
       "2                0.0             5.0               1.0   \n",
       "3                0.0             5.0               1.0   \n",
       "4                0.0             3.0               0.5   \n",
       "\n",
       "  Preferred Payment Method Preferred Shipping Type  \n",
       "0              Credit Card               Overnight  \n",
       "1                     Cash                 Express  \n",
       "2                     Cash                 Express  \n",
       "3              Credit Card                Standard  \n",
       "4               Debit Card               Overnight  "
      ]
     },
     "execution_count": 3,
     "metadata": {},
     "output_type": "execute_result"
    }
   ],
   "source": [
    "df.head()"
   ]
  },
  {
   "cell_type": "code",
   "execution_count": 4,
   "metadata": {},
   "outputs": [],
   "source": [
    "df_num = df.select_dtypes(exclude=['object'])\n",
    "df_cat = df.select_dtypes(include=['object'])"
   ]
  },
  {
   "cell_type": "code",
   "execution_count": 5,
   "metadata": {},
   "outputs": [],
   "source": [
    "numerical_features = list(df_num.columns)\n",
    "categorical_features = list(df_cat.columns)"
   ]
  },
  {
   "cell_type": "code",
   "execution_count": 6,
   "metadata": {},
   "outputs": [
    {
     "data": {
      "text/plain": [
       "['Customer ID',\n",
       " 'Age',\n",
       " 'Recency',\n",
       " 'Frequency',\n",
       " 'Monetary',\n",
       " 'Churn',\n",
       " 'Product Diversity',\n",
       " 'Total Orders',\n",
       " 'Cancellation Rate',\n",
       " 'Average Rating',\n",
       " 'Add-on Frequency']"
      ]
     },
     "execution_count": 6,
     "metadata": {},
     "output_type": "execute_result"
    }
   ],
   "source": [
    "numerical_features"
   ]
  },
  {
   "cell_type": "code",
   "execution_count": 7,
   "metadata": {},
   "outputs": [
    {
     "data": {
      "text/plain": [
       "['Gender',\n",
       " 'Loyalty Member',\n",
       " 'Favorite Product Type',\n",
       " 'Preferred Payment Method',\n",
       " 'Preferred Shipping Type']"
      ]
     },
     "execution_count": 7,
     "metadata": {},
     "output_type": "execute_result"
    }
   ],
   "source": [
    "categorical_features"
   ]
  },
  {
   "cell_type": "code",
   "execution_count": 8,
   "metadata": {},
   "outputs": [],
   "source": [
    "binary_features = ['Gender', 'Loyalty Member']\n",
    "one_hot_features = ['Favorite Product Type', 'Preferred Payment Method', 'Preferred Shipping Type']"
   ]
  },
  {
   "cell_type": "code",
   "execution_count": 9,
   "metadata": {},
   "outputs": [
    {
     "data": {
      "text/plain": [
       "Gender                      2\n",
       "Loyalty Member              2\n",
       "Favorite Product Type       5\n",
       "Preferred Payment Method    6\n",
       "Preferred Shipping Type     5\n",
       "dtype: int64"
      ]
     },
     "execution_count": 9,
     "metadata": {},
     "output_type": "execute_result"
    }
   ],
   "source": [
    "df_cat.nunique()"
   ]
  },
  {
   "cell_type": "code",
   "execution_count": 10,
   "metadata": {},
   "outputs": [],
   "source": [
    "from sklearn.compose import ColumnTransformer\n",
    "from sklearn.pipeline import Pipeline\n",
    "from sklearn.preprocessing import OneHotEncoder, StandardScaler, FunctionTransformer"
   ]
  },
  {
   "cell_type": "code",
   "execution_count": 11,
   "metadata": {},
   "outputs": [],
   "source": [
    "def binary_encode(df):\n",
    "    \"\"\"Binary encoding for Gender and Loyalty Member\"\"\"\n",
    "    return df.replace({'Male': 0, 'Female': 1, 'Yes': 1, 'No': 0})"
   ]
  },
  {
   "cell_type": "code",
   "execution_count": 12,
   "metadata": {},
   "outputs": [],
   "source": [
    "binary_pipeline = Pipeline(steps=[\n",
    "    ('binary_encoder', FunctionTransformer(binary_encode, validate=False))\n",
    "])\n",
    "\n",
    "one_hot_pipeline = Pipeline(steps=[\n",
    "    ('one_hot_encoder', OneHotEncoder(drop='first', sparse_output=False))\n",
    "])\n",
    "\n",
    "num_pipeline = Pipeline(steps=[\n",
    "    ('scaler', StandardScaler())\n",
    "])"
   ]
  },
  {
   "cell_type": "code",
   "execution_count": 13,
   "metadata": {},
   "outputs": [],
   "source": [
    "preprocessor = ColumnTransformer(\n",
    "    transformers=[\n",
    "        ('binary', binary_pipeline, binary_features),\n",
    "        ('one_hot', one_hot_pipeline, one_hot_features),\n",
    "        ('numerical', num_pipeline, numerical_features)\n",
    "    ],\n",
    "    remainder='drop'\n",
    ")"
   ]
  },
  {
   "cell_type": "code",
   "execution_count": 14,
   "metadata": {},
   "outputs": [],
   "source": [
    "final_pipeline = Pipeline(steps=[\n",
    "    ('preprocessor', preprocessor)\n",
    "])"
   ]
  },
  {
   "cell_type": "code",
   "execution_count": 15,
   "metadata": {},
   "outputs": [],
   "source": [
    "processed_data = final_pipeline.fit_transform(df)"
   ]
  },
  {
   "cell_type": "code",
   "execution_count": 16,
   "metadata": {},
   "outputs": [],
   "source": [
    "one_hot_encoder = preprocessor.named_transformers_['one_hot']['one_hot_encoder']\n",
    "one_hot_feature_names = one_hot_encoder.get_feature_names_out(one_hot_features)"
   ]
  },
  {
   "cell_type": "code",
   "execution_count": 17,
   "metadata": {},
   "outputs": [],
   "source": [
    "processed_df = pd.DataFrame(\n",
    "    processed_data,\n",
    "    columns=binary_features + list(one_hot_feature_names) + numerical_features\n",
    ")"
   ]
  },
  {
   "cell_type": "code",
   "execution_count": 18,
   "metadata": {},
   "outputs": [],
   "source": [
    "for col in processed_df.columns:\n",
    "    processed_df[col] = processed_df[col].astype(float)"
   ]
  },
  {
   "cell_type": "code",
   "execution_count": 19,
   "metadata": {},
   "outputs": [
    {
     "data": {
      "text/html": [
       "<div>\n",
       "<style scoped>\n",
       "    .dataframe tbody tr th:only-of-type {\n",
       "        vertical-align: middle;\n",
       "    }\n",
       "\n",
       "    .dataframe tbody tr th {\n",
       "        vertical-align: top;\n",
       "    }\n",
       "\n",
       "    .dataframe thead th {\n",
       "        text-align: right;\n",
       "    }\n",
       "</style>\n",
       "<table border=\"1\" class=\"dataframe\">\n",
       "  <thead>\n",
       "    <tr style=\"text-align: right;\">\n",
       "      <th></th>\n",
       "      <th>Gender</th>\n",
       "      <th>Loyalty Member</th>\n",
       "      <th>Favorite Product Type_Laptop</th>\n",
       "      <th>Favorite Product Type_Smartphone</th>\n",
       "      <th>Favorite Product Type_Smartwatch</th>\n",
       "      <th>Favorite Product Type_Tablet</th>\n",
       "      <th>Preferred Payment Method_Cash</th>\n",
       "      <th>Preferred Payment Method_Credit Card</th>\n",
       "      <th>Preferred Payment Method_Debit Card</th>\n",
       "      <th>Preferred Payment Method_PayPal</th>\n",
       "      <th>...</th>\n",
       "      <th>Age</th>\n",
       "      <th>Recency</th>\n",
       "      <th>Frequency</th>\n",
       "      <th>Monetary</th>\n",
       "      <th>Churn</th>\n",
       "      <th>Product Diversity</th>\n",
       "      <th>Total Orders</th>\n",
       "      <th>Cancellation Rate</th>\n",
       "      <th>Average Rating</th>\n",
       "      <th>Add-on Frequency</th>\n",
       "    </tr>\n",
       "  </thead>\n",
       "  <tbody>\n",
       "    <tr>\n",
       "      <th>0</th>\n",
       "      <td>0.0</td>\n",
       "      <td>0.0</td>\n",
       "      <td>0.0</td>\n",
       "      <td>1.0</td>\n",
       "      <td>0.0</td>\n",
       "      <td>0.0</td>\n",
       "      <td>0.0</td>\n",
       "      <td>1.0</td>\n",
       "      <td>0.0</td>\n",
       "      <td>0.0</td>\n",
       "      <td>...</td>\n",
       "      <td>0.213943</td>\n",
       "      <td>0.290005</td>\n",
       "      <td>0.410680</td>\n",
       "      <td>0.236632</td>\n",
       "      <td>0.952983</td>\n",
       "      <td>0.832837</td>\n",
       "      <td>0.410680</td>\n",
       "      <td>0.416733</td>\n",
       "      <td>-0.572888</td>\n",
       "      <td>0.655990</td>\n",
       "    </tr>\n",
       "    <tr>\n",
       "      <th>1</th>\n",
       "      <td>0.0</td>\n",
       "      <td>1.0</td>\n",
       "      <td>1.0</td>\n",
       "      <td>0.0</td>\n",
       "      <td>0.0</td>\n",
       "      <td>0.0</td>\n",
       "      <td>1.0</td>\n",
       "      <td>0.0</td>\n",
       "      <td>0.0</td>\n",
       "      <td>0.0</td>\n",
       "      <td>...</td>\n",
       "      <td>-0.448280</td>\n",
       "      <td>-0.915062</td>\n",
       "      <td>0.410680</td>\n",
       "      <td>-0.050176</td>\n",
       "      <td>-1.049337</td>\n",
       "      <td>0.832837</td>\n",
       "      <td>0.410680</td>\n",
       "      <td>-0.811092</td>\n",
       "      <td>-0.572888</td>\n",
       "      <td>-0.691107</td>\n",
       "    </tr>\n",
       "    <tr>\n",
       "      <th>2</th>\n",
       "      <td>0.0</td>\n",
       "      <td>1.0</td>\n",
       "      <td>0.0</td>\n",
       "      <td>1.0</td>\n",
       "      <td>0.0</td>\n",
       "      <td>0.0</td>\n",
       "      <td>1.0</td>\n",
       "      <td>0.0</td>\n",
       "      <td>0.0</td>\n",
       "      <td>0.0</td>\n",
       "      <td>...</td>\n",
       "      <td>1.428018</td>\n",
       "      <td>-0.046545</td>\n",
       "      <td>-0.755989</td>\n",
       "      <td>-1.184609</td>\n",
       "      <td>0.952983</td>\n",
       "      <td>-0.695795</td>\n",
       "      <td>-0.755989</td>\n",
       "      <td>-0.811092</td>\n",
       "      <td>1.804859</td>\n",
       "      <td>0.655990</td>\n",
       "    </tr>\n",
       "    <tr>\n",
       "      <th>3</th>\n",
       "      <td>1.0</td>\n",
       "      <td>0.0</td>\n",
       "      <td>0.0</td>\n",
       "      <td>1.0</td>\n",
       "      <td>0.0</td>\n",
       "      <td>0.0</td>\n",
       "      <td>0.0</td>\n",
       "      <td>1.0</td>\n",
       "      <td>0.0</td>\n",
       "      <td>0.0</td>\n",
       "      <td>...</td>\n",
       "      <td>-0.448280</td>\n",
       "      <td>-0.100827</td>\n",
       "      <td>-0.755989</td>\n",
       "      <td>-1.175153</td>\n",
       "      <td>0.952983</td>\n",
       "      <td>-0.695795</td>\n",
       "      <td>-0.755989</td>\n",
       "      <td>-0.811092</td>\n",
       "      <td>1.804859</td>\n",
       "      <td>0.655990</td>\n",
       "    </tr>\n",
       "    <tr>\n",
       "      <th>4</th>\n",
       "      <td>1.0</td>\n",
       "      <td>0.0</td>\n",
       "      <td>1.0</td>\n",
       "      <td>0.0</td>\n",
       "      <td>0.0</td>\n",
       "      <td>0.0</td>\n",
       "      <td>0.0</td>\n",
       "      <td>0.0</td>\n",
       "      <td>1.0</td>\n",
       "      <td>0.0</td>\n",
       "      <td>...</td>\n",
       "      <td>-1.331244</td>\n",
       "      <td>-0.415665</td>\n",
       "      <td>0.410680</td>\n",
       "      <td>1.489675</td>\n",
       "      <td>-1.049337</td>\n",
       "      <td>0.832837</td>\n",
       "      <td>0.410680</td>\n",
       "      <td>-0.811092</td>\n",
       "      <td>-0.097339</td>\n",
       "      <td>-0.691107</td>\n",
       "    </tr>\n",
       "  </tbody>\n",
       "</table>\n",
       "<p>5 rows × 26 columns</p>\n",
       "</div>"
      ],
      "text/plain": [
       "   Gender  Loyalty Member  Favorite Product Type_Laptop  \\\n",
       "0     0.0             0.0                           0.0   \n",
       "1     0.0             1.0                           1.0   \n",
       "2     0.0             1.0                           0.0   \n",
       "3     1.0             0.0                           0.0   \n",
       "4     1.0             0.0                           1.0   \n",
       "\n",
       "   Favorite Product Type_Smartphone  Favorite Product Type_Smartwatch  \\\n",
       "0                               1.0                               0.0   \n",
       "1                               0.0                               0.0   \n",
       "2                               1.0                               0.0   \n",
       "3                               1.0                               0.0   \n",
       "4                               0.0                               0.0   \n",
       "\n",
       "   Favorite Product Type_Tablet  Preferred Payment Method_Cash  \\\n",
       "0                           0.0                            0.0   \n",
       "1                           0.0                            1.0   \n",
       "2                           0.0                            1.0   \n",
       "3                           0.0                            0.0   \n",
       "4                           0.0                            0.0   \n",
       "\n",
       "   Preferred Payment Method_Credit Card  Preferred Payment Method_Debit Card  \\\n",
       "0                                   1.0                                  0.0   \n",
       "1                                   0.0                                  0.0   \n",
       "2                                   0.0                                  0.0   \n",
       "3                                   1.0                                  0.0   \n",
       "4                                   0.0                                  1.0   \n",
       "\n",
       "   Preferred Payment Method_PayPal  ...       Age   Recency  Frequency  \\\n",
       "0                              0.0  ...  0.213943  0.290005   0.410680   \n",
       "1                              0.0  ... -0.448280 -0.915062   0.410680   \n",
       "2                              0.0  ...  1.428018 -0.046545  -0.755989   \n",
       "3                              0.0  ... -0.448280 -0.100827  -0.755989   \n",
       "4                              0.0  ... -1.331244 -0.415665   0.410680   \n",
       "\n",
       "   Monetary     Churn  Product Diversity  Total Orders  Cancellation Rate  \\\n",
       "0  0.236632  0.952983           0.832837      0.410680           0.416733   \n",
       "1 -0.050176 -1.049337           0.832837      0.410680          -0.811092   \n",
       "2 -1.184609  0.952983          -0.695795     -0.755989          -0.811092   \n",
       "3 -1.175153  0.952983          -0.695795     -0.755989          -0.811092   \n",
       "4  1.489675 -1.049337           0.832837      0.410680          -0.811092   \n",
       "\n",
       "   Average Rating  Add-on Frequency  \n",
       "0       -0.572888          0.655990  \n",
       "1       -0.572888         -0.691107  \n",
       "2        1.804859          0.655990  \n",
       "3        1.804859          0.655990  \n",
       "4       -0.097339         -0.691107  \n",
       "\n",
       "[5 rows x 26 columns]"
      ]
     },
     "execution_count": 19,
     "metadata": {},
     "output_type": "execute_result"
    }
   ],
   "source": [
    "processed_df.head()"
   ]
  },
  {
   "cell_type": "code",
   "execution_count": 20,
   "metadata": {},
   "outputs": [
    {
     "name": "stdout",
     "output_type": "stream",
     "text": [
      "<class 'pandas.core.frame.DataFrame'>\n",
      "RangeIndex: 12136 entries, 0 to 12135\n",
      "Data columns (total 26 columns):\n",
      " #   Column                                Non-Null Count  Dtype  \n",
      "---  ------                                --------------  -----  \n",
      " 0   Gender                                12136 non-null  float64\n",
      " 1   Loyalty Member                        12136 non-null  float64\n",
      " 2   Favorite Product Type_Laptop          12136 non-null  float64\n",
      " 3   Favorite Product Type_Smartphone      12136 non-null  float64\n",
      " 4   Favorite Product Type_Smartwatch      12136 non-null  float64\n",
      " 5   Favorite Product Type_Tablet          12136 non-null  float64\n",
      " 6   Preferred Payment Method_Cash         12136 non-null  float64\n",
      " 7   Preferred Payment Method_Credit Card  12136 non-null  float64\n",
      " 8   Preferred Payment Method_Debit Card   12136 non-null  float64\n",
      " 9   Preferred Payment Method_PayPal       12136 non-null  float64\n",
      " 10  Preferred Payment Method_Paypal       12136 non-null  float64\n",
      " 11  Preferred Shipping Type_Express       12136 non-null  float64\n",
      " 12  Preferred Shipping Type_Overnight     12136 non-null  float64\n",
      " 13  Preferred Shipping Type_Same Day      12136 non-null  float64\n",
      " 14  Preferred Shipping Type_Standard      12136 non-null  float64\n",
      " 15  Customer ID                           12136 non-null  float64\n",
      " 16  Age                                   12136 non-null  float64\n",
      " 17  Recency                               12136 non-null  float64\n",
      " 18  Frequency                             12136 non-null  float64\n",
      " 19  Monetary                              12136 non-null  float64\n",
      " 20  Churn                                 12136 non-null  float64\n",
      " 21  Product Diversity                     12136 non-null  float64\n",
      " 22  Total Orders                          12136 non-null  float64\n",
      " 23  Cancellation Rate                     12136 non-null  float64\n",
      " 24  Average Rating                        12136 non-null  float64\n",
      " 25  Add-on Frequency                      12136 non-null  float64\n",
      "dtypes: float64(26)\n",
      "memory usage: 2.4 MB\n"
     ]
    }
   ],
   "source": [
    "processed_df.info()"
   ]
  },
  {
   "cell_type": "code",
   "execution_count": 21,
   "metadata": {},
   "outputs": [],
   "source": [
    "processed_df.to_csv('processed_data.csv')"
   ]
  }
 ],
 "metadata": {
  "kernelspec": {
   "display_name": "Python 3",
   "language": "python",
   "name": "python3"
  },
  "language_info": {
   "codemirror_mode": {
    "name": "ipython",
    "version": 3
   },
   "file_extension": ".py",
   "mimetype": "text/x-python",
   "name": "python",
   "nbconvert_exporter": "python",
   "pygments_lexer": "ipython3",
   "version": "3.9.6"
  }
 },
 "nbformat": 4,
 "nbformat_minor": 2
}
