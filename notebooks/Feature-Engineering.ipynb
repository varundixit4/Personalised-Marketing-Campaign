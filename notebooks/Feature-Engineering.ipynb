{
 "cells": [
  {
   "cell_type": "markdown",
   "metadata": {},
   "source": [
    "# Feature Engineering"
   ]
  },
  {
   "cell_type": "code",
   "execution_count": 1,
   "metadata": {},
   "outputs": [],
   "source": [
    "import numpy as np\n",
    "import pandas as pd\n",
    "%matplotlib inline\n",
    "pd.set_option('future.no_silent_downcasting', True)"
   ]
  },
  {
   "cell_type": "code",
   "execution_count": 2,
   "metadata": {},
   "outputs": [],
   "source": [
    "dataset = pd.read_csv('customer_purchase_data.csv')"
   ]
  },
  {
   "cell_type": "code",
   "execution_count": 3,
   "metadata": {},
   "outputs": [],
   "source": [
    "dataset['Gender'] = dataset['Gender'].fillna('Male')\n",
    "dataset['Purchase Date'] = pd.to_datetime(dataset['Purchase Date'])"
   ]
  },
  {
   "cell_type": "code",
   "execution_count": 4,
   "metadata": {},
   "outputs": [],
   "source": [
    "# Add Recency feature: Days since last purchase\n",
    "current_date = pd.to_datetime('today')\n",
    "dataset['Recency'] = (current_date - dataset.groupby('Customer ID')['Purchase Date'].transform('max')).dt.days"
   ]
  },
  {
   "cell_type": "code",
   "execution_count": 5,
   "metadata": {},
   "outputs": [],
   "source": [
    "# Add Frequency feature: Number of purchases per customer\n",
    "dataset['Frequency'] = dataset.groupby('Customer ID')['Customer ID'].transform('count')"
   ]
  },
  {
   "cell_type": "code",
   "execution_count": 6,
   "metadata": {},
   "outputs": [],
   "source": [
    "# Add Monetary (CLV) feature: Total spend per customer\n",
    "dataset['Monetary'] = dataset.groupby('Customer ID')['Total Price'].transform('sum')"
   ]
  },
  {
   "cell_type": "code",
   "execution_count": 7,
   "metadata": {},
   "outputs": [],
   "source": [
    "# Add Churn Indicator: If recency is greater than a threshold (e.g., 180 days, representing 6 months)\n",
    "dataset['Churn'] = np.where(dataset['Recency'] > 180, 1, 0)"
   ]
  },
  {
   "cell_type": "code",
   "execution_count": 8,
   "metadata": {},
   "outputs": [],
   "source": [
    "# Add Favorite Product Type: Most frequent product type purchased by each customer\n",
    "dataset['Favorite Product Type'] = dataset.groupby('Customer ID')['Product Type'].transform(lambda x: x.mode()[0])"
   ]
  },
  {
   "cell_type": "code",
   "execution_count": 9,
   "metadata": {},
   "outputs": [],
   "source": [
    "# Add Product Diversity: Number of unique products purchased by each customer\n",
    "dataset['Product Diversity'] = dataset.groupby('Customer ID')['Product Type'].transform('nunique')"
   ]
  },
  {
   "cell_type": "code",
   "execution_count": 10,
   "metadata": {},
   "outputs": [],
   "source": [
    "# Add Cancellation Rate: Number of time order cancelled by each customer\n",
    "dataset['Is_Cancelled'] = dataset['Order Status'].apply(lambda x: 1 if x == 'Cancelled' else 0)\n",
    "dataset['Total Orders'] = dataset.groupby('Customer ID')['Order Status'].transform('count')\n",
    "dataset['Cancelled Orders'] = dataset.groupby('Customer ID')['Is_Cancelled'].transform('sum')\n",
    "dataset['Cancellation Rate'] = (dataset['Cancelled Orders'] / dataset['Total Orders']) * 100\n",
    "dataset.drop(columns=['Is_Cancelled', 'Cancelled Orders'], inplace=True)"
   ]
  },
  {
   "cell_type": "code",
   "execution_count": 11,
   "metadata": {},
   "outputs": [],
   "source": [
    "# Add Rating Trends: Average rating per customer\n",
    "dataset['Average Rating'] = dataset.groupby('Customer ID')['Rating'].transform('mean')"
   ]
  },
  {
   "cell_type": "code",
   "execution_count": 12,
   "metadata": {},
   "outputs": [],
   "source": [
    "# Add Add-on Frequency: Percentage of transactions with add-ons\n",
    "dataset['Add-on Frequency'] = (dataset['Add-on Total'] > 0).astype(int)\n",
    "dataset['Add-on Frequency'] = dataset.groupby('Customer ID')['Add-on Frequency'].transform('mean')"
   ]
  },
  {
   "cell_type": "code",
   "execution_count": 13,
   "metadata": {},
   "outputs": [],
   "source": [
    "# Add Preferred Payment Method: Most frequent payment method per customer\n",
    "dataset['Preferred Payment Method'] = dataset.groupby('Customer ID')['Payment Method'].transform(lambda x: x.mode()[0])"
   ]
  },
  {
   "cell_type": "code",
   "execution_count": 14,
   "metadata": {},
   "outputs": [],
   "source": [
    "# Add Preferred Shipping Type: Most frequent shipping type per customer\n",
    "dataset['Preferred Shipping Type'] = dataset.groupby('Customer ID')['Shipping Type'].transform(lambda x: x.mode()[0])"
   ]
  },
  {
   "cell_type": "code",
   "execution_count": 15,
   "metadata": {},
   "outputs": [],
   "source": [
    "customer_data = dataset.drop_duplicates(subset='Customer ID', keep='last')"
   ]
  },
  {
   "cell_type": "code",
   "execution_count": 16,
   "metadata": {},
   "outputs": [],
   "source": [
    "dataset = customer_data.drop(['Product Type', 'SKU', 'Rating', 'Order Status', 'Payment Method', \n",
    "                    'Total Price', 'Unit Price', 'Quantity', 'Purchase Date', 'Shipping Type', \n",
    "                    'Add-ons Purchased', 'Add-on Total'], axis=1)"
   ]
  },
  {
   "cell_type": "code",
   "execution_count": 17,
   "metadata": {},
   "outputs": [
    {
     "data": {
      "text/html": [
       "<div>\n",
       "<style scoped>\n",
       "    .dataframe tbody tr th:only-of-type {\n",
       "        vertical-align: middle;\n",
       "    }\n",
       "\n",
       "    .dataframe tbody tr th {\n",
       "        vertical-align: top;\n",
       "    }\n",
       "\n",
       "    .dataframe thead th {\n",
       "        text-align: right;\n",
       "    }\n",
       "</style>\n",
       "<table border=\"1\" class=\"dataframe\">\n",
       "  <thead>\n",
       "    <tr style=\"text-align: right;\">\n",
       "      <th></th>\n",
       "      <th>Customer ID</th>\n",
       "      <th>Age</th>\n",
       "      <th>Gender</th>\n",
       "      <th>Loyalty Member</th>\n",
       "      <th>Recency</th>\n",
       "      <th>Frequency</th>\n",
       "      <th>Monetary</th>\n",
       "      <th>Churn</th>\n",
       "      <th>Favorite Product Type</th>\n",
       "      <th>Product Diversity</th>\n",
       "      <th>Total Orders</th>\n",
       "      <th>Cancellation Rate</th>\n",
       "      <th>Average Rating</th>\n",
       "      <th>Add-on Frequency</th>\n",
       "      <th>Preferred Payment Method</th>\n",
       "      <th>Preferred Shipping Type</th>\n",
       "    </tr>\n",
       "  </thead>\n",
       "  <tbody>\n",
       "    <tr>\n",
       "      <th>1</th>\n",
       "      <td>1000</td>\n",
       "      <td>53</td>\n",
       "      <td>Male</td>\n",
       "      <td>No</td>\n",
       "      <td>229</td>\n",
       "      <td>2</td>\n",
       "      <td>6279.42</td>\n",
       "      <td>1</td>\n",
       "      <td>Smartphone</td>\n",
       "      <td>2</td>\n",
       "      <td>2</td>\n",
       "      <td>50.0</td>\n",
       "      <td>2.5</td>\n",
       "      <td>1.0</td>\n",
       "      <td>Credit Card</td>\n",
       "      <td>Overnight</td>\n",
       "    </tr>\n",
       "    <tr>\n",
       "      <th>3</th>\n",
       "      <td>1002</td>\n",
       "      <td>41</td>\n",
       "      <td>Male</td>\n",
       "      <td>Yes</td>\n",
       "      <td>118</td>\n",
       "      <td>2</td>\n",
       "      <td>5020.60</td>\n",
       "      <td>0</td>\n",
       "      <td>Laptop</td>\n",
       "      <td>2</td>\n",
       "      <td>2</td>\n",
       "      <td>0.0</td>\n",
       "      <td>2.5</td>\n",
       "      <td>0.5</td>\n",
       "      <td>Cash</td>\n",
       "      <td>Express</td>\n",
       "    </tr>\n",
       "    <tr>\n",
       "      <th>4</th>\n",
       "      <td>1003</td>\n",
       "      <td>75</td>\n",
       "      <td>Male</td>\n",
       "      <td>Yes</td>\n",
       "      <td>198</td>\n",
       "      <td>1</td>\n",
       "      <td>41.50</td>\n",
       "      <td>1</td>\n",
       "      <td>Smartphone</td>\n",
       "      <td>1</td>\n",
       "      <td>1</td>\n",
       "      <td>0.0</td>\n",
       "      <td>5.0</td>\n",
       "      <td>1.0</td>\n",
       "      <td>Cash</td>\n",
       "      <td>Express</td>\n",
       "    </tr>\n",
       "    <tr>\n",
       "      <th>5</th>\n",
       "      <td>1004</td>\n",
       "      <td>41</td>\n",
       "      <td>Female</td>\n",
       "      <td>No</td>\n",
       "      <td>193</td>\n",
       "      <td>1</td>\n",
       "      <td>83.00</td>\n",
       "      <td>1</td>\n",
       "      <td>Smartphone</td>\n",
       "      <td>1</td>\n",
       "      <td>1</td>\n",
       "      <td>0.0</td>\n",
       "      <td>5.0</td>\n",
       "      <td>1.0</td>\n",
       "      <td>Credit Card</td>\n",
       "      <td>Standard</td>\n",
       "    </tr>\n",
       "    <tr>\n",
       "      <th>7</th>\n",
       "      <td>1005</td>\n",
       "      <td>25</td>\n",
       "      <td>Female</td>\n",
       "      <td>No</td>\n",
       "      <td>164</td>\n",
       "      <td>2</td>\n",
       "      <td>11779.11</td>\n",
       "      <td>0</td>\n",
       "      <td>Laptop</td>\n",
       "      <td>2</td>\n",
       "      <td>2</td>\n",
       "      <td>0.0</td>\n",
       "      <td>3.0</td>\n",
       "      <td>0.5</td>\n",
       "      <td>Debit Card</td>\n",
       "      <td>Overnight</td>\n",
       "    </tr>\n",
       "  </tbody>\n",
       "</table>\n",
       "</div>"
      ],
      "text/plain": [
       "   Customer ID  Age  Gender Loyalty Member  Recency  Frequency  Monetary  \\\n",
       "1         1000   53    Male             No      229          2   6279.42   \n",
       "3         1002   41    Male            Yes      118          2   5020.60   \n",
       "4         1003   75    Male            Yes      198          1     41.50   \n",
       "5         1004   41  Female             No      193          1     83.00   \n",
       "7         1005   25  Female             No      164          2  11779.11   \n",
       "\n",
       "   Churn Favorite Product Type  Product Diversity  Total Orders  \\\n",
       "1      1            Smartphone                  2             2   \n",
       "3      0                Laptop                  2             2   \n",
       "4      1            Smartphone                  1             1   \n",
       "5      1            Smartphone                  1             1   \n",
       "7      0                Laptop                  2             2   \n",
       "\n",
       "   Cancellation Rate  Average Rating  Add-on Frequency  \\\n",
       "1               50.0             2.5               1.0   \n",
       "3                0.0             2.5               0.5   \n",
       "4                0.0             5.0               1.0   \n",
       "5                0.0             5.0               1.0   \n",
       "7                0.0             3.0               0.5   \n",
       "\n",
       "  Preferred Payment Method Preferred Shipping Type  \n",
       "1              Credit Card               Overnight  \n",
       "3                     Cash                 Express  \n",
       "4                     Cash                 Express  \n",
       "5              Credit Card                Standard  \n",
       "7               Debit Card               Overnight  "
      ]
     },
     "execution_count": 17,
     "metadata": {},
     "output_type": "execute_result"
    }
   ],
   "source": [
    "dataset.head()"
   ]
  },
  {
   "cell_type": "code",
   "execution_count": 18,
   "metadata": {},
   "outputs": [
    {
     "name": "stdout",
     "output_type": "stream",
     "text": [
      "<class 'pandas.core.frame.DataFrame'>\n",
      "Index: 12136 entries, 1 to 19999\n",
      "Data columns (total 16 columns):\n",
      " #   Column                    Non-Null Count  Dtype  \n",
      "---  ------                    --------------  -----  \n",
      " 0   Customer ID               12136 non-null  int64  \n",
      " 1   Age                       12136 non-null  int64  \n",
      " 2   Gender                    12136 non-null  object \n",
      " 3   Loyalty Member            12136 non-null  object \n",
      " 4   Recency                   12136 non-null  int64  \n",
      " 5   Frequency                 12136 non-null  int64  \n",
      " 6   Monetary                  12136 non-null  float64\n",
      " 7   Churn                     12136 non-null  int64  \n",
      " 8   Favorite Product Type     12136 non-null  object \n",
      " 9   Product Diversity         12136 non-null  int64  \n",
      " 10  Total Orders              12136 non-null  int64  \n",
      " 11  Cancellation Rate         12136 non-null  float64\n",
      " 12  Average Rating            12136 non-null  float64\n",
      " 13  Add-on Frequency          12136 non-null  float64\n",
      " 14  Preferred Payment Method  12136 non-null  object \n",
      " 15  Preferred Shipping Type   12136 non-null  object \n",
      "dtypes: float64(4), int64(7), object(5)\n",
      "memory usage: 1.6+ MB\n"
     ]
    }
   ],
   "source": [
    "dataset.info()"
   ]
  },
  {
   "cell_type": "code",
   "execution_count": 19,
   "metadata": {},
   "outputs": [],
   "source": [
    "dataset.to_csv('new_features_data.csv', index=False)"
   ]
  }
 ],
 "metadata": {
  "kernelspec": {
   "display_name": "Python 3",
   "language": "python",
   "name": "python3"
  },
  "language_info": {
   "codemirror_mode": {
    "name": "ipython",
    "version": 3
   },
   "file_extension": ".py",
   "mimetype": "text/x-python",
   "name": "python",
   "nbconvert_exporter": "python",
   "pygments_lexer": "ipython3",
   "version": "3.9.6"
  }
 },
 "nbformat": 4,
 "nbformat_minor": 2
}
